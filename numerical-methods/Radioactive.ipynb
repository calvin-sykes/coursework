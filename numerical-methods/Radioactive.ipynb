{
 "cells": [
  {
   "cell_type": "code",
   "execution_count": 322,
   "metadata": {},
   "outputs": [],
   "source": [
    "%matplotlib inline\n",
    "import numpy\n",
    "import pylab\n",
    "import sys\n",
    "import os\n",
    "sys.path.append(os.getcwd())\n",
    "from DEq_Solver import DEq_Solver"
   ]
  },
  {
   "cell_type": "markdown",
   "metadata": {},
   "source": [
    "## Euler method"
   ]
  },
  {
   "cell_type": "markdown",
   "metadata": {},
   "source": [
    "This is where we define the solver. We use the bioler plate code from DEq_Solver. We need to implement the makeStep(self) function. Within this function you have access to \n",
    "\n",
    "- the current coordinates array as ``self.x``\n",
    "- the current time as ``self.t``\n",
    "- the derivative $dx/dt$ as ``self.kernel.dx_dt(self.x,self.t)``\n",
    "\n",
    "the function ``makeStep`` has to update ``self.x`` and ``self.t``.\n",
    " "
   ]
  },
  {
   "cell_type": "code",
   "execution_count": 323,
   "metadata": {
    "deletable": false,
    "nbgrader": {
     "checksum": "c87ab245a734da6ee7058fe49d745fd9",
     "grade": false,
     "grade_id": "cell-d8aabd8211ad6321",
     "locked": false,
     "schema_version": 1,
     "solution": true
    }
   },
   "outputs": [],
   "source": [
    "class EulerSolver(DEq_Solver):\n",
    "    def __init__(self,kernel):\n",
    "        self.kernel  = kernel\n",
    "    def makeStep(self):\n",
    "        self.t += self.delta_t\n",
    "        # Euler method: x(t + dt) = x(t) + (dx/dt) * dt\n",
    "        self.x += self.kernel.dx_dt(self.x, self.t) * self.delta_t"
   ]
  },
  {
   "cell_type": "markdown",
   "metadata": {},
   "source": [
    "These two cells test your implementation of the Euler solver"
   ]
  },
  {
   "cell_type": "code",
   "execution_count": 324,
   "metadata": {
    "deletable": false,
    "editable": false,
    "nbgrader": {
     "checksum": "431b373d39b0222b1e4683547c0e887d",
     "grade": true,
     "grade_id": "cell-2b12a87bf0144c9b",
     "locked": true,
     "points": 1,
     "schema_version": 1,
     "solution": false
    }
   },
   "outputs": [],
   "source": [
    "class ConstantSpeedKernel:\n",
    "    def dx_dt(x,t):\n",
    "        return 2.3\n",
    "d=EulerSolver(ConstantSpeedKernel)\n",
    "x0=numpy.array([0.0])\n",
    "t0=0\n",
    "t1=10\n",
    "delta_t=0.1\n",
    "d.initialise(x0,t0,t1,delta_t)\n",
    "\n",
    "# test 20 steps\n",
    "for i in range(20):\n",
    "    d.makeStep()\n",
    "assert numpy.isclose(d.x,numpy.array([ 4.6]))"
   ]
  },
  {
   "cell_type": "code",
   "execution_count": 325,
   "metadata": {
    "deletable": false,
    "editable": false,
    "nbgrader": {
     "checksum": "f4fb418fff74789ca21497089d066cf5",
     "grade": true,
     "grade_id": "cell-0856885444e882ac",
     "locked": true,
     "points": 2,
     "schema_version": 1,
     "solution": false
    }
   },
   "outputs": [],
   "source": [
    "class testKernel:\n",
    "    def dx_dt(x,t):\n",
    "        return sum(x)*numpy.ones_like(x)\n",
    "d=EulerSolver(testKernel)\n",
    "x0=numpy.array([1.0,2.0,3.0])\n",
    "t0=0\n",
    "t1=10\n",
    "delta_t=0.1\n",
    "d.initialise(x0,t0,t1,delta_t)\n",
    "\n",
    "for i in range(10):\n",
    "    d.makeStep()\n",
    "\n",
    "assert numpy.isclose(d.x,numpy.array([ 26.57169837,  27.57169837,  28.57169837])).all()"
   ]
  },
  {
   "cell_type": "markdown",
   "metadata": {},
   "source": [
    "## Radioactive decay"
   ]
  },
  {
   "cell_type": "markdown",
   "metadata": {},
   "source": [
    "This section deals with radioactive decay. The students are asked to \n",
    "provide a solution for the differential equation describing radioactive \n",
    "decay, i.e.\n",
    "\n",
    "$$  \\frac{dN}{dt} = -\\frac{N}{\\tau} $$\n",
    "\n",
    "We will use the solver above but we now needto provide the kernel for this \n",
    "specific case that is we have to provide the function $f$ in the \"canonical form\"\n",
    "\n",
    "$$  dx_i/dt = f_i(x_i,t)$$\n",
    "\n",
    "\n",
    "that is used in the lecture for describing differential equations of order one and their solution. To this end, the method\n",
    "\n",
    "   ``dx_dt(self,x,t)``\n",
    "\n",
    " needs to be modified. \n",
    " \n",
    "In this case we know the analytical solution so we can compare our numerical result with the analytical formula that you need to implement in ``analytical``\n",
    "\n",
    "In addition, in the ``__init__`` routine the half-life given by `hlife` needs to be converted into the time constant tau. \n",
    "\n",
    "All other input, plotting of results, etc. is already implemented in the code skeleton provided."
   ]
  },
  {
   "cell_type": "code",
   "execution_count": 383,
   "metadata": {
    "deletable": false,
    "nbgrader": {
     "checksum": "1ce52b14ef24f377882bc6c53e2a1e40",
     "grade": false,
     "grade_id": "cell-692708ec395f5742",
     "locked": false,
     "schema_version": 1,
     "solution": true
    }
   },
   "outputs": [],
   "source": [
    "class Radioactive:\n",
    "    def __init__(self,hlife):\n",
    "        # tau = ln(2) / halflife\n",
    "        self.tau = hlife / numpy.log(2)\n",
    "        # check whether hlife is vectorial\n",
    "        if(isinstance(hlife, (list, tuple, numpy.ndarray))):\n",
    "            # if so, time constants for production are\n",
    "            # equal to time constants for parent nucleus' decay\n",
    "            self.tau_prod = numpy.roll(self.tau, 1)\n",
    "        else:\n",
    "            # infinite time constant -> no production\n",
    "            self.tau_prod = numpy.inf\n",
    "\n",
    "    def dx_dt(self,x,t):\n",
    "        # dx[i]/dt = - x[i] / tau[i] + x[i - 1] / tau[i - 1]\n",
    "        if(isinstance(self.tau, (list, tuple, numpy.ndarray))):\n",
    "            return -x / self.tau + numpy.roll(x, 1) / self.tau_prod\n",
    "        else:\n",
    "            return -x / self.tau\n",
    "        \n",
    "    def analytical(self,x0,t):\n",
    "        # x(t) = x0 * exp(-t / tau)\n",
    "        return x0 * numpy.exp(-t / self.tau)\n",
    "\n",
    "    def relative_error(self,test,t0,t1):\n",
    "        res = []\n",
    "        for t,x in test:\n",
    "            if len(res)==0:\n",
    "                x0 = x\n",
    "            res.append( (t, x/self.analytical(x0,t-t0)-1) )\n",
    "        return res"
   ]
  },
  {
   "cell_type": "code",
   "execution_count": 335,
   "metadata": {
    "deletable": false,
    "editable": false,
    "nbgrader": {
     "checksum": "03ef7be8ea88fcc1f3c65d0a564a8f9a",
     "grade": true,
     "grade_id": "cell-12a0e717ac13ed62",
     "locked": true,
     "points": 1,
     "schema_version": 1,
     "solution": false
    }
   },
   "outputs": [],
   "source": [
    "# this checks the tau implementation\n",
    "r=Radioactive(0.9)\n",
    "assert numpy.isclose(r.tau,1.2984255368)"
   ]
  },
  {
   "cell_type": "code",
   "execution_count": 336,
   "metadata": {
    "deletable": false,
    "editable": false,
    "nbgrader": {
     "checksum": "b731c9b321c3911c745512a9802fb886",
     "grade": true,
     "grade_id": "cell-955c476bb51c2d9b",
     "locked": true,
     "points": 1,
     "schema_version": 1,
     "solution": false
    }
   },
   "outputs": [],
   "source": [
    "# this checks the kernel implementation\n",
    "r=Radioactive(0.9)\n",
    "assert numpy.isclose(r.dx_dt(5000,1.0),-3850.8176697774734)"
   ]
  },
  {
   "cell_type": "code",
   "execution_count": 337,
   "metadata": {},
   "outputs": [],
   "source": [
    "natoms = 10000\n",
    "hlife  = 0.2\n",
    "t0     = 0.0   # Initial time\n",
    "t1     = 1.0   # Final time of simulation\n",
    "deltat = 0.01   # Size of timestep"
   ]
  },
  {
   "cell_type": "code",
   "execution_count": 338,
   "metadata": {},
   "outputs": [],
   "source": [
    "radioactive = Radioactive(hlife)\n",
    "deq_solver  = EulerSolver(radioactive)\n",
    "\n",
    "x0  = numpy.array(natoms,dtype='f')\n",
    "result1 = deq_solver.solve(x0,t0,t1,deltat)\n",
    "ts1, xs1 = zip(*result1)\n",
    "\n",
    "x0 = numpy.array(natoms,dtype='f')\n",
    "result2 = deq_solver.solve(x0,t0,t1,deltat/10)\n",
    "ts2, xs2 = zip(*result2)\n",
    "\n",
    "x0 = numpy.array(natoms,dtype='f')\n",
    "result3 = deq_solver.solve(x0,t0,t1,5*deltat)\n",
    "ts3, xs3 = zip(*result3)"
   ]
  },
  {
   "cell_type": "code",
   "execution_count": 339,
   "metadata": {},
   "outputs": [
    {
     "data": {
      "image/png": "[encoded data removed]",
      "text/plain": [
       "<matplotlib.figure.Figure at 0x7fd7a9d71cf8>"
      ]
     },
     "metadata": {},
     "output_type": "display_data"
    }
   ],
   "source": [
    "pylab.figure(figsize=(8,8))\n",
    "numerical1 = pylab.semilogy(ts1,xs1,'gD',label='Numerical, dt')\n",
    "numerical2 = pylab.semilogy(ts2,xs2, 'c+',label='Numerical, dt/10')\n",
    "numerical3 = pylab.semilogy(ts3,xs3, 'bo',label='Numerical, 5*dt')\n",
    "\n",
    "t  = numpy.arange(t0,t1,deltat/100)\n",
    "analytical = pylab.semilogy(t, radioactive.analytical(natoms,t), \n",
    "                             color='r')\n",
    "# Annotate the graph\n",
    "pylab.title('Simple radioactive decay')\n",
    "pylab.ylabel('number of atoms')\n",
    "pylab.legend()\n",
    "pylab.grid(True)"
   ]
  },
  {
   "cell_type": "code",
   "execution_count": 340,
   "metadata": {},
   "outputs": [
    {
     "data": {
      "text/plain": [
       "<matplotlib.text.Text at 0x7fd7a9f087f0>"
      ]
     },
     "execution_count": 340,
     "metadata": {},
     "output_type": "execute_result"
    },
    {
     "data": {
      "image/png": "[encoded data removed]",
      "text/plain": [
       "<matplotlib.figure.Figure at 0x7fd7a9f15a58>"
      ]
     },
     "metadata": {},
     "output_type": "display_data"
    }
   ],
   "source": [
    "pylab.figure(figsize=(8,8))\n",
    "pylab.ylabel('relative error (num-ana)/ana')\n",
    "\n",
    "errors1 = radioactive.relative_error(result1,t0,t1)\n",
    "ts1, xs1 = zip(*errors1)\n",
    "\n",
    "errors2 = radioactive.relative_error(result2,t0,t1)\n",
    "ts2, xs2 = zip(*errors2)\n",
    "\n",
    "errors3 = radioactive.relative_error(result3,t0,t1)\n",
    "ts3, xs3 = zip(*errors3)\n",
    "\n",
    "error1 = pylab.plot(ts1,xs1,'gD',label='Numerical, dt' )\n",
    "error2 = pylab.plot(ts2,xs2, 'c+', label='Numerical, dt/10')\n",
    "error3 = pylab.plot(ts3,xs3, 'bo', label='Numerical, 5*dt')\n",
    "pylab.legend()\n",
    "pylab.grid(True)\n",
    "pylab.xlabel('time (s)')\n"
   ]
  },
  {
   "cell_type": "markdown",
   "metadata": {},
   "source": [
    "Generalise the `Radioactive` class to treat a problem with three types of nuclei:\n",
    "\n",
    "- A decays to B with half-life $h_A$\n",
    "- B decays to C with half-life $h_B$ \n",
    "\n",
    "We start with 1000000 nuclei of type A. \n",
    "There is no need to implement an analytical solution.\n",
    "\n"
   ]
  },
  {
   "cell_type": "code",
   "execution_count": 384,
   "metadata": {},
   "outputs": [
    {
     "data": {
      "text/plain": [
       "<matplotlib.text.Text at 0x7fd7a9358828>"
      ]
     },
     "execution_count": 384,
     "metadata": {},
     "output_type": "execute_result"
    },
    {
     "data": {
      "image/png": "[encoded data removed]",
      "text/plain": [
       "<matplotlib.figure.Figure at 0x7fd7a9d21cf8>"
      ]
     },
     "metadata": {},
     "output_type": "display_data"
    }
   ],
   "source": [
    "natoms = numpy.array([1000000, 0, 0], dtype='f') # Initial no. of atoms for each species\n",
    "hlife  = numpy.array([0.3, 0.2, numpy.inf], dtype='f') # Half-life for each species (inf == stable)\n",
    "t0     = 0.0   # Initial time\n",
    "t1     = 1.0   # Final time of simulation\n",
    "deltat = 0.01   # Size of timestep\n",
    "\n",
    "r = Radioactive(hlife)\n",
    "ds  = EulerSolver(r)\n",
    "\n",
    "result = ds.solve(natoms,t0,t1,deltat)\n",
    "\n",
    "pylab.figure(figsize=(8,8))\n",
    "pylab.ylabel('Number of atoms')\n",
    "\n",
    "ts,ns = zip(*result)\n",
    "ns1,ns2,ns3=zip(*ns)\n",
    "\n",
    "n1 = pylab.plot(ts,ns1,'gD',label='N1')\n",
    "n2 = pylab.plot(ts,ns2, 'c+', label='N2')\n",
    "n3 = pylab.plot(ts,ns3, 'bo', label='N3')\n",
    "pylab.legend()\n",
    "pylab.grid(True)\n",
    "pylab.xlabel('time (s)')\n"
   ]
  },
  {
   "cell_type": "code",
   "execution_count": 380,
   "metadata": {
    "init_cell": true,
    "tags": [
     "hide_input"
    ]
   },
   "outputs": [],
   "source": [
    "from ipywidgets import widgets, interact, interactive, fixed\n",
    "from ipywidgets import Button, HBox, VBox\n",
    "import shelve\n",
    "assessmentName=\"test\";\n",
    "import os\n",
    "\n",
    "def get_last_value(key):\n",
    "    if os.path.isfile('.choices.shelve'):\n",
    "        s=shelve.open('.choices.shelve')\n",
    "        return s.get(key,None)\n",
    "    return None\n",
    "\n",
    "\n",
    "class myRadioButton:\n",
    "    def __init__(self,name,description,options):\n",
    "        self.name=name\n",
    "        self.options=options\n",
    "        self.description=description\n",
    "    def getWidget(self):\n",
    "        def on_value_change(change):\n",
    "            s=shelve.open('.choices.shelve')\n",
    "            key=self.getKey()\n",
    "            s[key]=change['new']\n",
    "            s.close()\n",
    "\n",
    "        self.widget=widgets.RadioButtons(\n",
    "            options=self.options,\n",
    "            value=get_last_value(self.getKey()),\n",
    "            description=self.description,\n",
    "            disabled=False\n",
    "        )\n",
    "        self.widget.observe(on_value_change, names='value')\n",
    "\n",
    "        return self.widget\n",
    "    def getKey(self):\n",
    "        return '{0}_{1}'.format(assessmentName,self.name)\n",
    "        \n",
    "        \n",
    "def on_value_change(change):\n",
    "                s=shelve.open('.choices.shelve')\n",
    "                key='{0}_{1}_{2}'.format(assessmentName,self.name,i)\n",
    "                s[key]=change['new']\n",
    "                s.close()\n",
    "\n",
    "def make_value_change_fn(assessmentName,name,i):\n",
    "        def fn(change):\n",
    "            s=shelve.open('.choices.shelve')\n",
    "            key='{0}_{1}_{2}'.format(assessmentName,name,i)\n",
    "            s[key]=change['new']\n",
    "            s.close()\n",
    "        return fn\n",
    "\n",
    "class myCheckBoxSet:\n",
    "    def __init__(self,name,description,options):\n",
    "        self.name=name\n",
    "        self.options=options\n",
    "        self.description=description\n",
    "    def getWidget(self):\n",
    "        keys=['{0}_{1}_{2}'.format(assessmentName,self.name,i) for i in range(len(self.options))]    \n",
    "        self.widgets=[ widgets.Checkbox(value=get_last_value(key),\n",
    "    description=o,\n",
    "    disabled=False\n",
    "        ) for key,o in zip(keys,self.options)]\n",
    "        \n",
    "        txt=widgets.HTMLMath(\n",
    "            value=self.description,\n",
    "            placeholder='',\n",
    "            description='',\n",
    "        )\n",
    "\n",
    "        \n",
    "        self.widget=VBox([txt]+self.widgets)\n",
    "        for i,w in enumerate(self.widgets):\n",
    "            w.observe(make_value_change_fn(assessmentName,self.name,i), names='value')\n",
    "\n",
    "        return self.widget"
   ]
  },
  {
   "cell_type": "code",
   "execution_count": 381,
   "metadata": {
    "init_cell": true,
    "scrolled": false,
    "tags": [
     "hide_input"
    ]
   },
   "outputs": [
    {
     "data": {
      "application/vnd.jupyter.widget-view+json": {
       "model_id": "dc1e4f48838d4e12af5f0d47abf58425",
       "version_major": 2,
       "version_minor": 0
      },
      "text/plain": [
       "A Jupyter Widget"
      ]
     },
     "metadata": {},
     "output_type": "display_data"
    }
   ],
   "source": [
    "mcbs1=myCheckBoxSet('radioactiveABC1','We consider $h_A=0.3$ and $h_B=0.2$. Which of the nuclei type has the most nuclei at time $t=1$ ?',[\n",
    "    'type A',\n",
    "    'type B',\n",
    "    'type C']\n",
    ")\n",
    "mcbs1.getWidget()"
   ]
  },
  {
   "cell_type": "code",
   "execution_count": 382,
   "metadata": {
    "init_cell": true,
    "tags": [
     "hide_input"
    ]
   },
   "outputs": [
    {
     "data": {
      "application/vnd.jupyter.widget-view+json": {
       "model_id": "3fac812fd10c493fa21b6e7bcf01af41",
       "version_major": 2,
       "version_minor": 0
      },
      "text/plain": [
       "A Jupyter Widget"
      ]
     },
     "metadata": {},
     "output_type": "display_data"
    }
   ],
   "source": [
    "mcbs2=myCheckBoxSet('radioactiveABC2',\n",
    "                   'We consider $h_A=0.7$ and $h_B=0.9$. Which of the nuclei type number is increasing at time $t=0.5$?',[\n",
    "    'type A',\n",
    "    'type B',\n",
    "    'type C']\n",
    ")\n",
    "mcbs2.getWidget()\n",
    "\n"
   ]
  },
  {
   "cell_type": "code",
   "execution_count": null,
   "metadata": {
    "deletable": false,
    "editable": false,
    "nbgrader": {
     "checksum": "59a6f5de5eb7407da97e917f45861b45",
     "grade": true,
     "grade_id": "cell-59df6cc9dab46d1a",
     "locked": true,
     "points": 3,
     "schema_version": 1,
     "solution": false
    }
   },
   "outputs": [],
   "source": []
  },
  {
   "cell_type": "code",
   "execution_count": null,
   "metadata": {
    "deletable": false,
    "editable": false,
    "nbgrader": {
     "checksum": "6aaaa19f4c705b79e94930364d9eff5d",
     "grade": true,
     "grade_id": "cell-5b602a9fa9fa8021",
     "locked": true,
     "points": 3,
     "schema_version": 1,
     "solution": false
    }
   },
   "outputs": [],
   "source": []
  }
 ],
 "metadata": {
  "celltoolbar": "Raw Cell Format",
  "kernelspec": {
   "display_name": "Python 3",
   "language": "python",
   "name": "python3"
  },
  "language_info": {
   "codemirror_mode": {
    "name": "ipython",
    "version": 3
   },
   "file_extension": ".py",
   "mimetype": "text/x-python",
   "name": "python",
   "nbconvert_exporter": "python",
   "pygments_lexer": "ipython3",
   "version": "3.6.2"
  }
 },
 "nbformat": 4,
 "nbformat_minor": 2
}
