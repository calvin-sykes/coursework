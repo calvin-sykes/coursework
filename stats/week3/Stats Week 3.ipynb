{
 "cells": [
  {
   "cell_type": "markdown",
   "metadata": {},
   "source": [
    "# Week 3 Stats Assignment"
   ]
  },
  {
   "cell_type": "code",
   "execution_count": 2,
   "metadata": {},
   "outputs": [],
   "source": [
    "import numpy as np\n",
    "import scipy as sci\n",
    "%matplotlib inline\n",
    "import matplotlib.pyplot as plt\n",
    "import itertools"
   ]
  },
  {
   "cell_type": "markdown",
   "metadata": {},
   "source": [
    "## Question 1"
   ]
  },
  {
   "cell_type": "code",
   "execution_count": 3,
   "metadata": {},
   "outputs": [],
   "source": [
    "freqs = np.linspace(10, 110, 11)\n",
    "voltages = np.array((16, 45, 64, 75, 70, 115, 142, 167, 183, 160, 221),\n",
    "                        dtype='f') * 1e-3\n",
    "errors = np.array((5, 5, 5, 5, 30, 5, 5, 5, 5, 30, 5), dtype='f') * 1e-3"
   ]
  },
  {
   "cell_type": "markdown",
   "metadata": {},
   "source": [
    "*i) Calculate the 4 elements of the curvature matrix.*\n",
    "\n",
    "From last week we know a linear fit works for this data, so we can use the analytical results for the curvature matrix."
   ]
  },
  {
   "cell_type": "code",
   "execution_count": 4,
   "metadata": {},
   "outputs": [
    {
     "name": "stdout",
     "output_type": "stream",
     "text": [
      "Curvature matrix is:\n",
      " [[  3.62222187e+05   2.05666642e+07]\n",
      " [  2.05666642e+07   1.53788870e+09]]\n"
     ]
    }
   ],
   "source": [
    "A_cc = sum(1. / errors**2, 0.)\n",
    "A_cm = sum(freqs / errors**2, 0.)\n",
    "A_mc = A_cm\n",
    "A_mm = sum(freqs**2 / errors**2, 0.)\n",
    "A = np.matrix([[A_cc, A_cm], [A_mc, A_mm]])\n",
    "print('Curvature matrix is:\\n', A)"
   ]
  },
  {
   "cell_type": "markdown",
   "metadata": {},
   "source": [
    "*ii) Invert this to give the error matrix.*\n",
    "\n",
    "Inverting $A$ gives the error matrix $C$."
   ]
  },
  {
   "cell_type": "code",
   "execution_count": 5,
   "metadata": {},
   "outputs": [
    {
     "name": "stdout",
     "output_type": "stream",
     "text": [
      "Error matrix is:\n",
      " [[  1.14708120e-05  -1.53402738e-07]\n",
      " [ -1.53402738e-07   2.70174466e-09]]\n"
     ]
    }
   ],
   "source": [
    "C = A.I\n",
    "print('Error matrix is:\\n', C)"
   ]
  },
  {
   "cell_type": "markdown",
   "metadata": {},
   "source": [
    "*iii) What are the uncertainties in the slope and intercept?*\n",
    "\n",
    "To get the uncertainties in $m$ and $c$, we take the square root of the diagonal terms of $C$."
   ]
  },
  {
   "cell_type": "code",
   "execution_count": 6,
   "metadata": {},
   "outputs": [
    {
     "name": "stdout",
     "output_type": "stream",
     "text": [
      "Uncertainty in m is: 0.05 mV/Hz\n",
      "Uncertainty in c is: 3 mV\n"
     ]
    }
   ],
   "source": [
    "alphas = np.sqrt(C.diagonal())\n",
    "\n",
    "print('Uncertainty in m is: {:.1g} mV/Hz'.format(alphas[0,1]*1e3))\n",
    "print('Uncertainty in c is: {:.1g} mV'.format(alphas[0,0]*1e3))"
   ]
  },
  {
   "cell_type": "markdown",
   "metadata": {},
   "source": [
    "*iv) Comment on your answer.*\n",
    "\n",
    "These values are identical to those otained last week from doing a weighted least-squares fit."
   ]
  },
  {
   "cell_type": "markdown",
   "metadata": {},
   "source": [
    "## Question 2"
   ]
  },
  {
   "cell_type": "markdown",
   "metadata": {},
   "source": [
    "Done on separate sheet."
   ]
  },
  {
   "cell_type": "markdown",
   "metadata": {},
   "source": [
    "## Question 3"
   ]
  },
  {
   "cell_type": "code",
   "execution_count": 7,
   "metadata": {},
   "outputs": [],
   "source": [
    "concentrations = np.linspace(0.025, 0.175, 7)\n",
    "thetas = np.array([10.7, 21.6, 32.4, 43.1, 53.9, 64.9, 75.4])\n",
    "errors = np.full(7, 0.1)\n",
    "\n",
    "# Straight line fit parameters\n",
    "m = 431.7 # deg cm^3 / g\n",
    "c = -0.03 # deg"
   ]
  },
  {
   "cell_type": "markdown",
   "metadata": {},
   "source": [
    "*Show that the curvature matrix is given by...*"
   ]
  },
  {
   "cell_type": "code",
   "execution_count": 8,
   "metadata": {},
   "outputs": [
    {
     "name": "stdout",
     "output_type": "stream",
     "text": [
      "Curvature matrix is:\n",
      " [[ 700.     70.  ]\n",
      " [  70.      8.75]]\n"
     ]
    }
   ],
   "source": [
    "A_cc = sum(1. / errors**2, 0.)\n",
    "A_cm = sum(concentrations / errors**2, 0.)\n",
    "A_mc = A_cm\n",
    "A_mm = sum(concentrations**2/errors**2, 0.)\n",
    "A = np.matrix([[A_cc, A_cm], [A_mc, A_mm]])\n",
    "print('Curvature matrix is:\\n', A)"
   ]
  },
  {
   "cell_type": "markdown",
   "metadata": {},
   "source": [
    "*...and that the error matrix is...*"
   ]
  },
  {
   "cell_type": "code",
   "execution_count": 9,
   "metadata": {},
   "outputs": [
    {
     "name": "stdout",
     "output_type": "stream",
     "text": [
      "Error matrix is:\n",
      " [[ 0.00714286 -0.05714286]\n",
      " [-0.05714286  0.57142857]]\n"
     ]
    }
   ],
   "source": [
    "C = A.I\n",
    "print('Error matrix is:\\n', C)"
   ]
  },
  {
   "cell_type": "markdown",
   "metadata": {},
   "source": [
    "*Calculate the associated correlation matrix.*\n",
    "\n",
    "Entries are given by $\\rho_{AB}=\\frac{C_{AB}}{\\sqrt{C_{AA} C_{BB}}}$"
   ]
  },
  {
   "cell_type": "code",
   "execution_count": 10,
   "metadata": {},
   "outputs": [
    {
     "name": "stdout",
     "output_type": "stream",
     "text": [
      "Correlation matrix is:\n",
      " [[ 1.         -0.89442719]\n",
      " [-0.89442719  1.        ]]\n"
     ]
    }
   ],
   "source": [
    "def rho_ab(a, b, cov):\n",
    "    a = int(a)\n",
    "    b = int(b)\n",
    "    return cov[a, b] / np.sqrt(cov[a, a] * cov[b, b])\n",
    "\n",
    "# makes this function work with np.vectorize\n",
    "vrho = np.vectorize(rho_ab, excluded={'cov'})\n",
    "\n",
    "corr = np.fromfunction(vrho, (2,2),cov=C)\n",
    "corr = np.matrix(corr)\n",
    "\n",
    "print('Correlation matrix is:\\n',corr)"
   ]
  },
  {
   "cell_type": "markdown",
   "metadata": {},
   "source": [
    "*i) What are the uncertainties in the best-fit intercept and gradient?*\n",
    "\n",
    "As before, these are given by the square roots of the diagonal elements of $C$."
   ]
  },
  {
   "cell_type": "code",
   "execution_count": 11,
   "metadata": {},
   "outputs": [
    {
     "name": "stdout",
     "output_type": "stream",
     "text": [
      "Uncertainty in m is: 0.8 deg cm^3 / g\n",
      "Uncertainty in c is: 0.08 deg\n"
     ]
    }
   ],
   "source": [
    "alphas = np.sqrt(C.diagonal())\n",
    "alpha_m = alphas[0,1]\n",
    "alpha_c = alphas[0,0]\n",
    "\n",
    "print('Uncertainty in m is: {:.1g} deg cm^3 / g'.format(alpha_m))\n",
    "print('Uncertainty in c is: {:.1g} deg'.format(alpha_c))"
   ]
  },
  {
   "cell_type": "markdown",
   "metadata": {},
   "source": [
    "*ii) What optical rotation is expected for a known concentration of $C=0.080\\ \\mathrm{g\\ cm^{-3}}$, and what is the uncertainty?*\n",
    "\n",
    "Fit is $\\theta=mC + c$.\n",
    "The nonzero correlation coefficients found above need to be taken into account to calculate the uncertainty.\n",
    "The required expression (from Table 7.2 in the book) is:\n",
    "$\\alpha_\\theta^2=C^2\\alpha_m^2+\\alpha_c^2+2C\\alpha_{mc}$"
   ]
  },
  {
   "cell_type": "code",
   "execution_count": 12,
   "metadata": {},
   "outputs": [
    {
     "name": "stdout",
     "output_type": "stream",
     "text": [
      "Result: expected rotation is (34.5 +- 0.7) deg\n"
     ]
    }
   ],
   "source": [
    "conc = 0.080\n",
    "expected_rotation = m * conc + c\n",
    "uncertainty = np.sqrt(conc**2 * C[0,0] + C[1,1] + 2 * conc * C[0,1])\n",
    "\n",
    "print('Result: expected rotation is ({:.3g} +- {:.1g}) deg'\n",
    "      .format(expected_rotation, uncertainty))"
   ]
  },
  {
   "cell_type": "markdown",
   "metadata": {},
   "source": [
    "*iii) What is the concentration given a measured rotation of $\\theta=70.3^{\\circ}$, and what is the uncertainty?*\n",
    "\n",
    "Invert fit function: $C = \\theta/m - c/m$. \n",
    "\n",
    "For the second term, from Table 7.2:\n",
    "$(\\alpha_C/C)^2=(\\alpha_m/m)^2+(\\alpha_c/c)^2-2(\\alpha_{mc}/mc)$\n",
    "\n",
    "The first term contributes an additional factor $\\alpha_m/m$."
   ]
  },
  {
   "cell_type": "code",
   "execution_count": 13,
   "metadata": {},
   "outputs": [
    {
     "name": "stdout",
     "output_type": "stream",
     "text": [
      "Result: expected concentration is (0.1629 +- 0.0003) g/cm^3\n"
     ]
    }
   ],
   "source": [
    "theta = 70.3\n",
    "expected_conc = (theta - c) / m\n",
    "alpha_1 = (theta / m) * (alpha_m / m)\n",
    "alpha_2 = (c / m) * np.sqrt((alpha_c / c)**2 + (alpha_m / m)**2\n",
    "                           - 2 * C[0, 1] / (m * c))\n",
    "uncertainty = np.sqrt(alpha_1**2 + alpha_2**2)\n",
    "print('Result: expected concentration is ({:.4g} +- {:.1g}) g/cm^3'\n",
    "      .format(expected_conc, uncertainty))"
   ]
  },
  {
   "cell_type": "markdown",
   "metadata": {},
   "source": [
    "## Question 4"
   ]
  },
  {
   "cell_type": "code",
   "execution_count": 14,
   "metadata": {
    "scrolled": false
   },
   "outputs": [
    {
     "data": {
      "text/plain": [
       "<Container object of 3 artists>"
      ]
     },
     "execution_count": 14,
     "metadata": {},
     "output_type": "execute_result"
    },
    {
     "data": {
      "image/png": "[encoded data removed]",
      "text/plain": [
       "<matplotlib.figure.Figure at 0x7f2c2e76f358>"
      ]
     },
     "metadata": {},
     "output_type": "display_data"
    },
    {
     "data": {
      "image/png": "[encoded data removed]",
      "text/plain": [
       "<matplotlib.figure.Figure at 0x7f2c2c744828>"
      ]
     },
     "metadata": {},
     "output_type": "display_data"
    }
   ],
   "source": [
    "data = np.loadtxt('LorentzianData.csv', skiprows=3,\n",
    "                 dtype = [('angle', 'f'), ('cps', 'f'), ('err', 'f')])\n",
    "\n",
    "plt.figure(figsize=(12, 6))\n",
    "plt.fill_between(data['angle'], data['cps'] + data['err'],  data['cps'] - data['err'],\n",
    "                alpha=0.4, color='b')\n",
    "plt.plot(data['angle'], data['cps'], 'o', ms=3)\n",
    "\n",
    "plt.figure(figsize=(12, 6))\n",
    "plt.errorbar(data['angle'], data['cps'], data['err'], fmt='o', ms=4)"
   ]
  },
  {
   "cell_type": "markdown",
   "metadata": {},
   "source": [
    "*i) Explain how the error in the count rate was calculated.*\n",
    "\n",
    "The counts measured per second should follow a Poisson distribution, for which the error in the counts is given by $\\sqrt{\\bar{x}}$. Since the results have been measured in 20-second bins, the count rate should first be divided by 20."
   ]
  },
  {
   "cell_type": "code",
   "execution_count": 16,
   "metadata": {},
   "outputs": [
    {
     "name": "stdout",
     "output_type": "stream",
     "text": [
      "True\n"
     ]
    }
   ],
   "source": [
    "# tests whether the statement above is right\n",
    "print(np.isclose(data['err'], np.sqrt(data['cps'] / 20)).all())"
   ]
  },
  {
   "cell_type": "markdown",
   "metadata": {},
   "source": [
    "*ii) Perform a $\\chi^2$ minimisation. What are the best-fit parameters?*"
   ]
  },
  {
   "cell_type": "code",
   "execution_count": 16,
   "metadata": {},
   "outputs": [],
   "source": [
    "# The form of the fitting function\n",
    "def S(theta, S_bgd, S_0, theta_0, delta_theta):\n",
    "    return S_bgd + S_0 / (1 + 4 * ((theta - theta_0) / delta_theta)**2)\n",
    "\n",
    "#  The gradient vector for the fitting function\n",
    "def dS(theta, S_bgd, S_0, theta_0, delta_theta):\n",
    "    dSdS_0 = 1 / (1 + 4 * ((theta - theta_0) / delta_theta)**2)\n",
    "    dSdS_bgd = np.ones_like(theta) \n",
    "    dSdtheta_0 = ((8 * delta_theta **2 * S_0 * (theta - theta_0))/\n",
    "                  (4 * (theta - theta_0)**2 + delta_theta**2)**2)\n",
    "    dSddelta_theta = ((8 * delta_theta * S_0 * (theta - theta_0)**2)/\n",
    "                      (4*(theta - theta_0)**2 + delta_theta**2)**2)\n",
    "    return (dSdS_bgd,dSdS_0, dSdtheta_0, dSddelta_theta)\n",
    "\n",
    "# Definition of chi squared\n",
    "def chi2(x):\n",
    "    return sum((data['cps'] - S(data['angle'], *x))**2 / data['err']**2)\n",
    "\n",
    "# Gradient vector/Jacobian for chi squared\n",
    "def dchi2(x):\n",
    "    diff = dS(data['angle'], *x)\n",
    "    return np.array([sum((data['cps'] - S(data['angle'], *x)) / data['err']**2\n",
    "                    * -2. * diff[i]) for i in range(4)])"
   ]
  },
  {
   "cell_type": "markdown",
   "metadata": {},
   "source": [
    "SciPy has the `optimize` library which can do the minimisation for us. Specifically the `minimize` function takes the (multi-variable) function to minimise and a vector of initial guesses for the parameters.\n",
    "\n",
    "The `BFGS` solver is ideal because it also calculates (approximately) the inverse of the Hessian matrix, which we can use to obtain the error matrix."
   ]
  },
  {
   "cell_type": "code",
   "execution_count": 25,
   "metadata": {
    "scrolled": false
   },
   "outputs": [
    {
     "name": "stdout",
     "output_type": "stream",
     "text": [
      "Best-fit parameters are:\n",
      "    S_bgd = 1.404403699969694\n",
      "    S_0 = 5.4263184427109055\n",
      "    theta_0 = 44.390120690814236\n",
      "    delta_theta = 0.9498836597699426\n",
      "      fun: 226.47279372137018\n",
      " hess_inv: array([[  3.84084851e-04,   8.57325408e-05,   4.60215003e-08,\n",
      "         -2.96164628e-04],\n",
      "       [  8.57325408e-05,   1.87964823e-02,   7.11807054e-05,\n",
      "         -2.72520590e-03],\n",
      "       [  4.60215003e-08,   7.11807054e-05,   1.22068597e-04,\n",
      "         -1.19234860e-05],\n",
      "       [ -2.96164628e-04,  -2.72520590e-03,  -1.19234860e-05,\n",
      "          9.05674751e-04]])\n",
      "      jac: array([ 0.00070764, -0.00019515,  0.01145638,  0.00041559])\n",
      "  message: 'Desired error not necessarily achieved due to precision loss.'\n",
      "     nfev: 88\n",
      "      nit: 12\n",
      "     njev: 76\n",
      "   status: 2\n",
      "  success: False\n",
      "        x: array([  1.4044037 ,   5.42631844,  44.39012069,   0.94988366])\n"
     ]
    },
    {
     "data": {
      "text/plain": [
       "<matplotlib.collections.PathCollection at 0x7f025a0f6080>"
      ]
     },
     "execution_count": 25,
     "metadata": {},
     "output_type": "execute_result"
    },
    {
     "data": {
      "image/png": "[encoded data removed]",
      "text/plain": [
       "<matplotlib.figure.Figure at 0x7f0260550f28>"
      ]
     },
     "metadata": {},
     "output_type": "display_data"
    }
   ],
   "source": [
    "import scipy.optimize as optimize\n",
    "\n",
    "# Initial guesses for the parameters\n",
    "S_bgd = 1.5\n",
    "S_0 = 5\n",
    "theta_0 = 45\n",
    "delta_theta = 1\n",
    "\n",
    "# The initial guesses get passed in as a vector\n",
    "x0 = np.array([S_bgd, S_0, theta_0, delta_theta])\n",
    "\n",
    "res = optimize.minimize(chi2, x0, jac=dchi2, method='BFGS')\n",
    "print('''Best-fit parameters are:\n",
    "    S_bgd = {}\n",
    "    S_0 = {}\n",
    "    theta_0 = {}\n",
    "    delta_theta = {}'''.format(*res.x))\n",
    "\n",
    "print(res)\n",
    "\n",
    "S_bgd, S_0, theta_0, delta_theta = res.x\n",
    "minimised_chi2 = res.fun\n",
    "\n",
    "xs = data['angle']\n",
    "ys = S(xs, *res.x)\n",
    "residuals = (data['cps'] - ys) / data['err']\n",
    "\n",
    "plt.figure(figsize=(12, 12))\n",
    "plt.subplots_adjust(hspace=0.001)\n",
    "ax1 = plt.subplot(211)\n",
    "ax1.xaxis.set_visible(False)\n",
    "ax1.set_ylabel('Count $(s^{-1})$')\n",
    "plt.plot(xs, ys, 'orange')\n",
    "plt.scatter(data['angle'], data['cps'], s=5)\n",
    "\n",
    "ax2 = plt.subplot(212)\n",
    "ax2.set_ylabel('Residual $(s^{-1})$')\n",
    "ax2.set_xlabel('Angle (degrees)')\n",
    "plt.scatter(data['angle'], residuals, s=5)"
   ]
  },
  {
   "cell_type": "markdown",
   "metadata": {},
   "source": [
    "*iii) Evaluate the error matrix.*\n",
    "\n",
    "Error matrix $C=A^{-1}$.  \n",
    "Curvature matrix $A = 0.5H$.  \n",
    "Hessain matrix $H$ is matrix of partial differentials of $\\chi^2$."
   ]
  },
  {
   "cell_type": "code",
   "execution_count": 18,
   "metadata": {
    "scrolled": true
   },
   "outputs": [
    {
     "name": "stdout",
     "output_type": "stream",
     "text": [
      "Error matrix is:\n",
      " [[  7.68169703e-04   1.71465082e-04   9.20430007e-08  -5.92329255e-04]\n",
      " [  1.71465082e-04   3.75929645e-02   1.42361411e-04  -5.45041180e-03]\n",
      " [  9.20430007e-08   1.42361411e-04   2.44137195e-04  -2.38469721e-05]\n",
      " [ -5.92329255e-04  -5.45041180e-03  -2.38469721e-05   1.81134950e-03]]\n"
     ]
    }
   ],
   "source": [
    "# C = inverse(0.5 * H)\n",
    "#   = inverse(H) * 2\n",
    "\n",
    "C = 2 * res.hess_inv\n",
    "\n",
    "print('Error matrix is:\\n', C)"
   ]
  },
  {
   "cell_type": "markdown",
   "metadata": {},
   "source": [
    "*iv) Calculate the correlation matrix.*\n",
    "\n",
    "Same method as in Q3. "
   ]
  },
  {
   "cell_type": "code",
   "execution_count": 19,
   "metadata": {},
   "outputs": [
    {
     "name": "stdout",
     "output_type": "stream",
     "text": [
      "Correlation matrix is:\n",
      " [[  1.00000000e+00   3.19075763e-02   2.12542217e-04  -5.02150001e-01]\n",
      " [  3.19075763e-02   1.00000000e+00   4.69917935e-02  -6.60503162e-01]\n",
      " [  2.12542217e-04   4.69917935e-02   1.00000000e+00  -3.58604009e-02]\n",
      " [ -5.02150001e-01  -6.60503162e-01  -3.58604009e-02   1.00000000e+00]]\n"
     ]
    }
   ],
   "source": [
    "# S_bgd       S_0 theta_0 delta_theta\n",
    "# S_0\n",
    "# theta_0\n",
    "# delta_theta\n",
    "corr = np.fromfunction(vrho, (4, 4), cov=C)\n",
    "corr = np.matrix(corr)\n",
    "print('Correlation matrix is:\\n', corr)"
   ]
  },
  {
   "cell_type": "markdown",
   "metadata": {},
   "source": [
    "*v) What are the uncertainties in the best-fit parameters?*\n",
    "\n",
    "As before, this is just the square root of the diagonal of the error matrix."
   ]
  },
  {
   "cell_type": "code",
   "execution_count": 20,
   "metadata": {},
   "outputs": [
    {
     "name": "stdout",
     "output_type": "stream",
     "text": [
      "Uncertainties in best-fit parameters are:\n",
      "    alpha_S_bgd = 0.02771587456322677\n",
      "    alpha_S_0 = 0.1938890520891835\n",
      "    alpha_theta_0 = 0.015624890238459057\n",
      "    alpha_delta_theta = 0.042559951844800416\n",
      "Hence results are:\n",
      "    S_bgd = 1.40 +- 0.03\n",
      "    S_0 = 5.43 +- 0.19\n",
      "    theta_0 = 44.39 +- 0.02\n",
      "    delta_theta = 0.95 +- 0.04\n"
     ]
    }
   ],
   "source": [
    "alphas = np.sqrt(C.diagonal())\n",
    "print('''Uncertainties in best-fit parameters are:\n",
    "    alpha_S_bgd = {}\n",
    "    alpha_S_0 = {}\n",
    "    alpha_theta_0 = {}\n",
    "    alpha_delta_theta = {}'''.format(*alphas))\n",
    "\n",
    "print('''Hence results are:\n",
    "    S_bgd = {:.2f} +- {:.1g}\n",
    "    S_0 = {:.3g} +- {:.2g}\n",
    "    theta_0 = {:.4g} +- {:.1g}\n",
    "    delta_theta = {:.2g} +- {:.1g}'''.format(*itertools.chain(*zip(res.x, alphas))))"
   ]
  },
  {
   "cell_type": "markdown",
   "metadata": {},
   "source": [
    "*vi) Make $\\chi^2$ contour plots for (a) $S_{bgd}$ against $\\theta_0$, (b) $S_{bgd}$ against $\\Delta\\theta$*\n",
    "\n",
    "*Comment on the shape of the contours.*"
   ]
  },
  {
   "cell_type": "code",
   "execution_count": 21,
   "metadata": {},
   "outputs": [
    {
     "data": {
      "text/plain": [
       "<matplotlib.collections.PathCollection at 0x7f025a1e1358>"
      ]
     },
     "execution_count": 21,
     "metadata": {},
     "output_type": "execute_result"
    },
    {
     "data": {
      "image/png": "[encoded data removed]",
      "text/plain": [
       "<matplotlib.figure.Figure at 0x7f025a47a860>"
      ]
     },
     "metadata": {},
     "output_type": "display_data"
    },
    {
     "data": {
      "image/png": "[encoded data removed]",
      "text/plain": [
       "<matplotlib.figure.Figure at 0x7f025a203c18>"
      ]
     },
     "metadata": {},
     "output_type": "display_data"
    }
   ],
   "source": [
    "# S_bgd - theta_0\n",
    "N = 100\n",
    "rge_S_bgd = np.linspace(1.0, 1.8, N)\n",
    "rge_theta_0 = np.linspace(44, 44.8, N)\n",
    "\n",
    "chisqs = np.zeros((N, N))\n",
    "for x in range(N):\n",
    "        for y in range(N):\n",
    "            chisqs[y, x] = chi2((rge_S_bgd[y], S_0, rge_theta_0[x], delta_theta)) - minimised_chi2\n",
    "\n",
    "plt.figure()\n",
    "ax = plt.gca()\n",
    "ax.set_ylabel('$S_{bgd}$')\n",
    "ax.set_xlabel(r'$\\theta_0$')\n",
    "plt.contourf(rge_theta_0, rge_S_bgd, chisqs)\n",
    "cb = plt.colorbar()\n",
    "cb.set_label('$\\Delta\\chi^2$')\n",
    "plt.scatter(theta_0, S_bgd, c='r')\n",
    "\n",
    "# S_bgd - delta_theta\n",
    "rge_delta_theta = np.linspace(0.4, 2.0, N)\n",
    "\n",
    "chisqs = np.zeros((N, N))\n",
    "for x in range(N):\n",
    "        for y in range(N):\n",
    "            chisqs[y, x] = chi2((rge_S_bgd[y], S_0, theta_0, rge_delta_theta[x])) - minimised_chi2\n",
    "\n",
    "plt.figure()\n",
    "ax = plt.gca()\n",
    "ax.set_ylabel('$S_{bgd}$')\n",
    "ax.set_xlabel(r'$\\Delta \\theta$')\n",
    "plt.contourf(rge_delta_theta, rge_S_bgd, chisqs)\n",
    "cb = plt.colorbar()\n",
    "cb.set_label('$\\Delta\\chi^2$')\n",
    "plt.scatter(delta_theta, S_bgd, c='r')"
   ]
  },
  {
   "cell_type": "markdown",
   "metadata": {},
   "source": [
    "The contours for plot *(a)* are almost circular, indicating there is a low level of correlation between $S_{bgd}$ and $\\theta_0$.\n",
    "\n",
    "Conversely, the contours in plot *(b)* have a considerable negative tilt, indicating negative correlation between $S_{bgd}$ and $\\Delta\\theta$.\n",
    "\n",
    "These conclusions are supported by the relevant entries of the correlation matrix: $\\rho_{S_{bgd}\\theta_0}=0.0002$, whereas $\\rho_{S_{bgd}\\Delta\\theta}=-0.5$."
   ]
  },
  {
   "cell_type": "markdown",
   "metadata": {},
   "source": [
    "*vii? What is the area of the Lorentzian peak?*\n",
    "\n",
    "Integrate the curve between $\\theta_0\\pm\\Delta\\theta$."
   ]
  },
  {
   "cell_type": "code",
   "execution_count": 27,
   "metadata": {},
   "outputs": [
    {
     "name": "stdout",
     "output_type": "stream",
     "text": [
      "Area of peak: 8.37\n"
     ]
    }
   ],
   "source": [
    "import scipy.integrate as integrate\n",
    "\n",
    "ll = theta_0 - delta_theta\n",
    "ul = theta_0 + delta_theta\n",
    "\n",
    "peak_area, _ = integrate.quad(S, ll, ul, args=(S_bgd, S_0, theta_0, delta_theta))\n",
    "\n",
    "print('Area of peak: {:.3g}'.format(peak_area))"
   ]
  },
  {
   "cell_type": "markdown",
   "metadata": {},
   "source": [
    "*viii) Evaluate the Durbin-Watson statistic for the fit to this data set.*"
   ]
  },
  {
   "cell_type": "code",
   "execution_count": 23,
   "metadata": {},
   "outputs": [
    {
     "name": "stdout",
     "output_type": "stream",
     "text": [
      "Durbin-Watson statistic: 1.82\n"
     ]
    }
   ],
   "source": [
    "dw = sum([(residuals[i] - residuals[i - 1])**2\n",
    "          for i in range(1, len(residuals))]) / sum(residuals**2)\n",
    "\n",
    "print('Durbin-Watson statistic: {:.3g}'.format(dw))"
   ]
  },
  {
   "cell_type": "markdown",
   "metadata": {},
   "source": [
    "This is close to the value of 2 expected for randomly-distributed residuals.\n",
    "Can verify this by plotting lag plot: $i$th vs $(i-1)$th residuals."
   ]
  },
  {
   "cell_type": "code",
   "execution_count": 24,
   "metadata": {},
   "outputs": [
    {
     "data": {
      "text/plain": [
       "<matplotlib.collections.PathCollection at 0x7f026054d940>"
      ]
     },
     "execution_count": 24,
     "metadata": {},
     "output_type": "execute_result"
    },
    {
     "data": {
      "image/png": "[encoded data removed]",
      "text/plain": [
       "<matplotlib.figure.Figure at 0x7f025a439518>"
      ]
     },
     "metadata": {},
     "output_type": "display_data"
    }
   ],
   "source": [
    "plt.figure(figsize=(5,5))\n",
    "ax = plt.gca()\n",
    "ax.set_aspect('equal')\n",
    "ax.set_ylabel('$i$-th normalised residual')\n",
    "ax.set_xlabel('$(i-1)$-th normalised residual')\n",
    "plt.scatter(residuals[1:], [residuals[i - 1] for i in range(1, len(residuals))])"
   ]
  },
  {
   "cell_type": "markdown",
   "metadata": {},
   "source": [
    "Apart from a few weird outliers, this looks pretty good: the majority of the points lie within $\\pm 2$."
   ]
  }
 ],
 "metadata": {
  "kernelspec": {
   "display_name": "Python 3",
   "language": "python",
   "name": "python3"
  },
  "language_info": {
   "codemirror_mode": {
    "name": "ipython",
    "version": 3
   },
   "file_extension": ".py",
   "mimetype": "text/x-python",
   "name": "python",
   "nbconvert_exporter": "python",
   "pygments_lexer": "ipython3",
   "version": "3.5.2"
  }
 },
 "nbformat": 4,
 "nbformat_minor": 2
}
