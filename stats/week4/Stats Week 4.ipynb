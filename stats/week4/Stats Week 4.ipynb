{
 "cells": [
  {
   "cell_type": "markdown",
   "metadata": {},
   "source": [
    "# Week 4 Stats Assignment"
   ]
  },
  {
   "cell_type": "code",
   "execution_count": 1,
   "metadata": {},
   "outputs": [],
   "source": [
    "import numpy as np\n",
    "import scipy.stats\n",
    "import itertools\n",
    "%matplotlib inline\n",
    "import matplotlib.pyplot as plt\n",
    "import matplotlib\n",
    "matplotlib.rc('font',size=16)"
   ]
  },
  {
   "cell_type": "markdown",
   "metadata": {},
   "source": [
    "## Question 1"
   ]
  },
  {
   "cell_type": "code",
   "execution_count": 2,
   "metadata": {},
   "outputs": [],
   "source": [
    "currents = np.linspace(10, 90, 9) # microamps\n",
    "voltages = np.array([0.98, 1.98, 2.98, 3.97, 4.95, 5.95, 6.93, 7.93, 8.91]) # millivolts\n",
    "errors = np.full_like(voltages, 0.01) # millivolts"
   ]
  },
  {
   "cell_type": "markdown",
   "metadata": {},
   "source": [
    "*i) Calculate the unweighted best-fit gradient and intercept, and their uncertainties.*"
   ]
  },
  {
   "cell_type": "code",
   "execution_count": 3,
   "metadata": {},
   "outputs": [
    {
     "name": "stdout",
     "output_type": "stream",
     "text": [
      "Best fit parameters:\n",
      "     gradient is (0.099083 +- 0.00009) mV/muA\n",
      "    intercept is (  -0.001 +- 0.005) mV\n"
     ]
    }
   ],
   "source": [
    "sum_xs = sum(currents)\n",
    "sum_ys = sum(voltages)\n",
    "sum_xys = sum(voltages * currents)\n",
    "sum_xs_sq = sum(currents**2)\n",
    "N = len(currents)\n",
    "\n",
    "delta = N * sum_xs_sq - sum_xs**2\n",
    "\n",
    "m = (N * sum_xys - sum_xs * sum_ys) / delta\n",
    "c = (sum_xs_sq * sum_ys - sum_xs * sum_xys) / delta\n",
    "\n",
    "residuals = (voltages - (m * currents + c))\n",
    "\n",
    "alpha_cu = np.sqrt(sum(residuals**2) / (N - 2))\n",
    "alpha_m = alpha_cu * np.sqrt(N / delta)\n",
    "alpha_c = alpha_cu * np.sqrt(sum_xs_sq / delta)\n",
    "\n",
    "print('''Best fit parameters:\n",
    "     gradient is ({:.5g} +- {:.5f}) mV/muA\n",
    "    intercept is (  {:.3f} +- {:.1g}) mV'''.format(m, alpha_m, c, alpha_c))"
   ]
  },
  {
   "cell_type": "markdown",
   "metadata": {},
   "source": [
    "*ii) Calculate the common uncertainty, $\\alpha_\\mathrm{CU}$, and compare the value with the experimental uncertainty.*"
   ]
  },
  {
   "cell_type": "code",
   "execution_count": 4,
   "metadata": {},
   "outputs": [
    {
     "name": "stdout",
     "output_type": "stream",
     "text": [
      "Common uncertainty alpha_CU is: 0.007 mV\n"
     ]
    }
   ],
   "source": [
    "print('Common uncertainty alpha_CU is: {:.1g} mV'.format(alpha_cu))"
   ]
  },
  {
   "cell_type": "markdown",
   "metadata": {},
   "source": [
    "This is similar in magnitude to the reported experimental uncertainty."
   ]
  },
  {
   "cell_type": "markdown",
   "metadata": {},
   "source": [
    "*iii) Plot a graph of the data and add the best-fit straight line.*"
   ]
  },
  {
   "cell_type": "code",
   "execution_count": 5,
   "metadata": {},
   "outputs": [
    {
     "data": {
      "image/png": "[encoded data removed]",
      "text/plain": [
       "<matplotlib.figure.Figure at 0x7ff9d3ca3240>"
      ]
     },
     "metadata": {},
     "output_type": "display_data"
    }
   ],
   "source": [
    "fig, (ax1, ax2) = plt.subplots(2, 1, sharex=True, figsize=(8,8),\n",
    "                               gridspec_kw={'height_ratios':[2, 1],\n",
    "                                            'hspace':0.1})\n",
    "ax1.xaxis.set_visible(False)\n",
    "ax1.set_ylabel(r'Voltage ($mV$)')\n",
    "ax1.scatter(currents, voltages, label='Data')\n",
    "ax1.plot(currents, m * currents + c, 'r', label='Fit')\n",
    "ax1.legend()\n",
    "\n",
    "ax2.set_ylabel(r'Residuals ($mV$)')\n",
    "ax2.set_xlabel(r'Current ($\\mu A$)')\n",
    "ax2.scatter(currents, residuals);"
   ]
  },
  {
   "cell_type": "markdown",
   "metadata": {},
   "source": [
    "*iv) Calculate the residuals, and comment on their magnitudes.*"
   ]
  },
  {
   "cell_type": "code",
   "execution_count": 6,
   "metadata": {},
   "outputs": [
    {
     "name": "stdout",
     "output_type": "stream",
     "text": [
      "Residuals (mV) are:\n",
      "\t -0.01 -0.0008 0.008 0.008 -0.003 0.006 -0.005 0.004 -0.007 \n"
     ]
    }
   ],
   "source": [
    "# Residuals were calculated in part i)\n",
    "print('Residuals (mV) are:\\n\\t',('{:.1g} ' * N).format(*residuals))"
   ]
  },
  {
   "cell_type": "markdown",
   "metadata": {},
   "source": [
    "These values all lie within the variation expected from the reported experimental uncertainties."
   ]
  },
  {
   "cell_type": "markdown",
   "metadata": {},
   "source": [
    "## Question 2"
   ]
  },
  {
   "cell_type": "code",
   "execution_count": 7,
   "metadata": {},
   "outputs": [],
   "source": [
    "intervals = np.array([(-np.inf, -2.5), (-2.5, -2), (-2, -1.5), (-1.5, -1),\n",
    "                      (-1, -0.5), (-0.5, 0), (0, 0.5), (0.5, 1), (1, 1.5),\n",
    "                      (1.5, 2), (2, 2.5), (2.5, np.inf)], dtype='f')\n",
    "\n",
    "n_observed = np.array([9, 48, 142, 154, 438, 521,\n",
    "                       405, 318, 299, 100, 57, 9], dtype='f')\n",
    "\n",
    "n_bins = len(n_observed)\n",
    "n_total = sum(n_observed)"
   ]
  },
  {
   "cell_type": "markdown",
   "metadata": {},
   "source": [
    "*i) Use Eq 3.9 to determine the number of expected data points in each interval, $E_i$.*"
   ]
  },
  {
   "cell_type": "code",
   "execution_count": 8,
   "metadata": {
    "scrolled": false
   },
   "outputs": [
    {
     "name": "stdout",
     "output_type": "stream",
     "text": [
      "Expected distribution of counts is: \n",
      "\t[-inf -2.5] : 15.524163314440331\n",
      "\t[-2.5 -2. ] : 41.351166556007655\n",
      "\t[-2.  -1.5] : 110.14267330169719\n",
      "\t[-1.5 -1. ] : 229.6201316564975\n",
      "\t[-1.  -0.5] : 374.7057119863245\n",
      "\t[-0.5  0. ] : 478.6561531850328\n",
      "\t[ 0.   0.5] : 478.6561531850328\n",
      "\t[ 0.5  1. ] : 374.7057119863245\n",
      "\t[ 1.   1.5] : 229.62013165649748\n",
      "\t[ 1.5  2. ] : 110.14267330169719\n",
      "\t[ 2.   2.5] : 41.35116655600763\n",
      "\t[ 2.5  inf] : 15.524163314440397\n"
     ]
    },
    {
     "data": {
      "image/png": "[encoded data removed]",
      "text/plain": [
       "<matplotlib.figure.Figure at 0x7ff9d1c2b828>"
      ]
     },
     "metadata": {},
     "output_type": "display_data"
    }
   ],
   "source": [
    "n_expected = (scipy.stats.norm.cdf(intervals[:,1])\n",
    "              - scipy.stats.norm.cdf(intervals[:,0])) * n_total\n",
    "    \n",
    "print('Expected distribution of counts is:',('\\n\\t{} : {}' * n_bins)\n",
    "      .format(*itertools.chain(*zip(intervals, n_expected))))\n",
    "\n",
    "xs = np.arange(n_bins)\n",
    "\n",
    "mask1 = np.ma.where(n_observed >= n_expected)\n",
    "mask2 = np.ma.where(n_observed <= n_expected)\n",
    "\n",
    "plt.figure()\n",
    "ax = plt.gca()\n",
    "ax.bar(xs[mask1], n_observed[mask1], label='Observed')\n",
    "ax.bar(xs, n_expected, color='orange', label='Expected')\n",
    "ax.bar(xs[mask2], n_observed[mask2], color='tab:blue')\n",
    "ax.set_xticks(xs)\n",
    "ax.set_xticklabels(intervals)\n",
    "for t in ax.get_xticklabels():\n",
    "    t.set_rotation(90)\n",
    "ax.legend();"
   ]
  },
  {
   "cell_type": "markdown",
   "metadata": {},
   "source": [
    "*ii) Show that $E_i>5$ for all bins.*"
   ]
  },
  {
   "cell_type": "code",
   "execution_count": 9,
   "metadata": {},
   "outputs": [
    {
     "name": "stdout",
     "output_type": "stream",
     "text": [
      "True\n"
     ]
    }
   ],
   "source": [
    "print((n_expected > 5).all())"
   ]
  },
  {
   "cell_type": "markdown",
   "metadata": {},
   "source": [
    "*iii) Calculate $\\chi^2$.*"
   ]
  },
  {
   "cell_type": "code",
   "execution_count": 10,
   "metadata": {},
   "outputs": [
    {
     "name": "stdout",
     "output_type": "stream",
     "text": [
      "chi^2 is: 103\n"
     ]
    }
   ],
   "source": [
    "chi_sq = sum((n_observed - n_expected)**2 / n_expected)\n",
    "print('chi^2 is: {:.3g}'.format(chi_sq))"
   ]
  },
  {
   "cell_type": "markdown",
   "metadata": {},
   "source": [
    "*iv) Calculate the number of degrees of freedom.*\n",
    "\n",
    "DoF $\\nu=N-\\mathcal{N}$ where $N$ is number of observations and $\\mathcal{N}$ is number of parameters in the fit.\n",
    "\n",
    "Here $N=12$ and $\\mathcal{N}=2$: for a Gaussian fit the free parameters are the mean and standard deviation.\n",
    "\n",
    "Hence $\\nu=10$."
   ]
  },
  {
   "cell_type": "markdown",
   "metadata": {},
   "source": [
    "*v) Are the data consistent with the hypothesis of a Gaussian distribution?*"
   ]
  },
  {
   "cell_type": "code",
   "execution_count": 11,
   "metadata": {},
   "outputs": [
    {
     "name": "stdout",
     "output_type": "stream",
     "text": [
      "chi^2/nu is: 10.3\n"
     ]
    }
   ],
   "source": [
    "nu = 10\n",
    "\n",
    "reduced_chi_sq = chi_sq / nu\n",
    "print('chi^2/nu is: {:.3g}'.format(reduced_chi_sq))"
   ]
  },
  {
   "cell_type": "markdown",
   "metadata": {},
   "source": [
    "The value of $\\chi^2/\\nu$ is much greater than 1, which implies that a normal distribution is not a good fit for this data."
   ]
  },
  {
   "cell_type": "markdown",
   "metadata": {},
   "source": [
    "## Question 3"
   ]
  },
  {
   "cell_type": "code",
   "execution_count": 12,
   "metadata": {},
   "outputs": [],
   "source": [
    "# Benford's Law\n",
    "def benford(a):\n",
    "    return np.log10(1 + 1 / a)"
   ]
  },
  {
   "cell_type": "markdown",
   "metadata": {},
   "source": [
    "*i) Use Benford's Law to calculate the probability of obtaining a first digit $a$, for $1\\leq a \\leq 9$.*"
   ]
  },
  {
   "cell_type": "code",
   "execution_count": 13,
   "metadata": {},
   "outputs": [
    {
     "name": "stdout",
     "output_type": "stream",
     "text": [
      "Probabilities of obtaining a first digit A are:\n",
      "    A prob \n",
      "    1 0.301\n",
      "    2 0.176\n",
      "    3 0.125\n",
      "    4 0.0969\n",
      "    5 0.0792\n",
      "    6 0.0669\n",
      "    7 0.058\n",
      "    8 0.0512\n",
      "    9 0.0458\n",
      "Do probabilities sum to 1?: yes\n"
     ]
    }
   ],
   "source": [
    "digits = np.linspace(1, 9, 9)\n",
    "\n",
    "probs = benford(digits)\n",
    "\n",
    "print('''Probabilities of obtaining a first digit A are:\n",
    "    A prob''', ('\\n    {:.0f} {:.3g}' * 9).format(*itertools.chain(*zip(digits, probs))))\n",
    "\n",
    "# probabilities should sum to 1\n",
    "sum_is_1 = np.isclose(sum(probs), 1.0)\n",
    "print('Do probabilities sum to 1?:', ('yes' if sum_is_1 else 'no'))"
   ]
  },
  {
   "cell_type": "markdown",
   "metadata": {},
   "source": [
    "*ii) Using Benford's formula and the total count for that group, calculate the expected number of occurences of the first digit being $a$, $E_a$, for $1\\leq a \\leq 9$.*\n",
    "\n",
    "I chose to analyse the 'Population' dataset.\n",
    "\n",
    "The expected values according to Benford's law are found by multiplying the probabilities above by the number of observations made, which is 3259 for this dataset."
   ]
  },
  {
   "cell_type": "code",
   "execution_count": 14,
   "metadata": {},
   "outputs": [
    {
     "name": "stdout",
     "output_type": "stream",
     "text": [
      "Expected occurences of a first digit A are:\n",
      "    A E_a \n",
      "    1 981\n",
      "    2 574\n",
      "    3 407\n",
      "    4 316\n",
      "    5 258\n",
      "    6 218\n",
      "    7 189\n",
      "    8 167\n",
      "    9 149\n"
     ]
    }
   ],
   "source": [
    "percentages = np.array([33.9, 20.4, 14.2, 8.1, 7.2, 6.2, 4.1, 3.7, 2.2])\n",
    "\n",
    "total =  3259\n",
    "\n",
    "expected = probs * total\n",
    "print('Expected occurences of a first digit A are:\\n    A E_a',\n",
    "      ('\\n    {:.0f} {:.0f}' * 9).format(*itertools.chain(*zip(digits,expected))))"
   ]
  },
  {
   "cell_type": "markdown",
   "metadata": {},
   "source": [
    "*iii) Ascertain whether some of the bins should be combined.*\n",
    "\n",
    "Bins should be combined if fewer than 5 values are expected in that bin, to avoid the asymmetry of the Poisson distribution at low mean values."
   ]
  },
  {
   "cell_type": "code",
   "execution_count": 15,
   "metadata": {},
   "outputs": [
    {
     "name": "stdout",
     "output_type": "stream",
     "text": [
      " There are 0 bins with fewer than 5 values.\n"
     ]
    }
   ],
   "source": [
    "print(' There are {} bins with fewer than 5 values.'.format(\n",
    "    len(expected[expected < 5])))"
   ]
  },
  {
   "cell_type": "markdown",
   "metadata": {},
   "source": [
    "Hence no bins require combining.\n",
    "\n",
    "*iv) From the table, and the total count for that group, calculate the observed number of occurences of the first digit being a, $O_a$, for $1\\leq a \\leq 9$.*"
   ]
  },
  {
   "cell_type": "code",
   "execution_count": 16,
   "metadata": {},
   "outputs": [
    {
     "name": "stdout",
     "output_type": "stream",
     "text": [
      "Observed occurences of a first digit A are:\n",
      "    A O_a \n",
      "    1 1105\n",
      "    2 665\n",
      "    3 463\n",
      "    4 264\n",
      "    5 235\n",
      "    6 202\n",
      "    7 134\n",
      "    8 121\n",
      "    9 72\n"
     ]
    }
   ],
   "source": [
    "observed = (percentages / 100) * total\n",
    "print('Observed occurences of a first digit A are:\\n    A O_a',\n",
    "      ('\\n    {:.0f} {:.0f}' * 9).format(*itertools.chain(*zip(digits,observed))))"
   ]
  },
  {
   "cell_type": "markdown",
   "metadata": {},
   "source": [
    "*v) Calculate $\\chi^2$ and the number of degrees of freedom.*\n",
    "\n",
    "$$\\chi^2=\\sum\\frac{(O_i-E_i)^2}{E_i}$$\n",
    "\n",
    "DoF $\\nu = N - \\mathcal{N}$, where $N=9$ and $\\mathcal{N}=2$. The two constraints are:\n",
    "\n",
    "- The mean of the sample and parent distributions are the same.\n",
    "- The two distributions contain the same number of measurements."
   ]
  },
  {
   "cell_type": "code",
   "execution_count": 17,
   "metadata": {
    "scrolled": true
   },
   "outputs": [
    {
     "name": "stdout",
     "output_type": "stream",
     "text": [
      "chi^2 is: 119\n"
     ]
    }
   ],
   "source": [
    "residuals = (observed - expected) / np.sqrt(expected)\n",
    "\n",
    "chi_sq = sum(residuals**2)\n",
    "print('chi^2 is: {:.3g}'.format(chi_sq))"
   ]
  },
  {
   "cell_type": "markdown",
   "metadata": {},
   "source": [
    "*vi) Test the hypothesis that the distribution for that group follows Benford's Law.*"
   ]
  },
  {
   "cell_type": "code",
   "execution_count": 18,
   "metadata": {},
   "outputs": [
    {
     "name": "stdout",
     "output_type": "stream",
     "text": [
      "The reduced chi^2 is:\n",
      "    16.9\n",
      "Probability of obtaining this result from the chi^2 distribution is:\n",
      "    0\n"
     ]
    },
    {
     "data": {
      "image/png": "[encoded data removed]",
      "text/plain": [
       "<matplotlib.figure.Figure at 0x7ff9d1b15710>"
      ]
     },
     "metadata": {},
     "output_type": "display_data"
    }
   ],
   "source": [
    "fig, (ax1, ax2) = plt.subplots(2, 1, sharex=True, figsize=(8,8),\n",
    "                               gridspec_kw={'height_ratios':[2, 1],\n",
    "                                            'hspace':0.1})\n",
    "ax1.xaxis.set_visible(False)\n",
    "ax1.set_ylabel('Occurence')\n",
    "ax1.bar(digits, observed, yerr=np.sqrt(observed), label='Observed')\n",
    "ax1.errorbar(digits, expected, np.sqrt(expected), c='tab:red', label='Expected')\n",
    "ax1.legend()\n",
    "\n",
    "ax2.set_ylim(-10, 10)\n",
    "ax2.set_ylabel(r'Normalised residuals')\n",
    "ax2.set_xlabel(r'Digit')\n",
    "ax2.xaxis.set_ticks(digits)\n",
    "ax2.scatter(digits, residuals);\n",
    "\n",
    "red_chi_sq = chi_sq / 7\n",
    "print('The reduced chi^2 is:\\n    {:.3g}'.format(red_chi_sq))\n",
    "\n",
    "chi_sq_prob = 1 - scipy.stats.chi2.cdf(chi_sq, 7)\n",
    "print('Probability of obtaining this result from the chi^2 distribution is:\\n    {:.3g}'\n",
    "      .format(chi_sq_prob))"
   ]
  },
  {
   "cell_type": "markdown",
   "metadata": {},
   "source": [
    "The above results indicate that it is highly unlikely that Benford's law provides an accurate fit to these data."
   ]
  },
  {
   "cell_type": "markdown",
   "metadata": {},
   "source": [
    "## Question 4"
   ]
  },
  {
   "cell_type": "code",
   "execution_count": 19,
   "metadata": {},
   "outputs": [],
   "source": [
    "data = np.loadtxt('BevingtonData.csv', skiprows=1,\n",
    "                 dtype=[('time','f'), ('counts', 'f')])\n",
    "\n",
    "# add errors to the data\n",
    "from numpy.lib.recfunctions import append_fields\n",
    "data = append_fields(data, 'errors', np.sqrt(data['counts']) / 15, 'f')\n",
    "# normalise to counts per second\n",
    "data['counts'] = data['counts'] / 15"
   ]
  },
  {
   "cell_type": "markdown",
   "metadata": {},
   "source": [
    "To fit the data, need to perform a $\\chi^2$ minimisation.\n",
    "\n",
    "The fitting function is: $y=a_1+a_2\\mathrm{e}^{-t/a_4}+a_3\\mathrm{e}^{-t/a_5}$. Also need the gradient vector $dy$.\n",
    "\n",
    "From these can calculate $\\chi^2$ and $d\\chi^2$."
   ]
  },
  {
   "cell_type": "code",
   "execution_count": 20,
   "metadata": {},
   "outputs": [],
   "source": [
    "def y(t, a1, a2, a3, a4, a5):\n",
    "    return a1 + a2 * np.exp(-t / a4) + a3 * np.exp(-t / a5)\n",
    "\n",
    "def dy(t, a1, a2, a3, a4, a5):\n",
    "    dyda1 = np.ones_like(t)\n",
    "    dyda2 = np.exp(-t / a4)\n",
    "    dyda3 = np.exp(-t / a5)\n",
    "    dyda4 = (a2 * t / a4**2) * np.exp(-t / a4)\n",
    "    dyda5 = (a3 * t / a5**2) * np.exp(-t / a5)\n",
    "    return np.array([dyda1, dyda2, dyda3, dyda4, dyda5]).T"
   ]
  },
  {
   "cell_type": "markdown",
   "metadata": {},
   "source": [
    "To perform the minimisation, the `scipy.optimize` library is used."
   ]
  },
  {
   "cell_type": "code",
   "execution_count": 21,
   "metadata": {},
   "outputs": [
    {
     "name": "stdout",
     "output_type": "stream",
     "text": [
      "Best-fit parameters are:\n",
      "    a1 = 0.68 +- 0.14\n",
      "    a2 = 8.6 +- 1.6\n",
      "    a3 = 64 +- 4\n",
      "    a4 = (2.1e+02 +- 4e+01) s\n",
      "    a5 = (34 +- 3) s\n",
      "    \n"
     ]
    }
   ],
   "source": [
    "import scipy.optimize as optimize\n",
    "\n",
    "x, cov = optimize.curve_fit(y, data['time'], data['counts'],\n",
    "                            jac=dy, sigma=data['errors'],\n",
    "                            bounds=([0]*5,[1000]*5))\n",
    "fit_errs = np.sqrt(cov.diagonal())\n",
    "\n",
    "print('''Best-fit parameters are:\n",
    "    a1 = {:.2f} +- {:.2g}\n",
    "    a2 = {:.1f} +- {:.2g}\n",
    "    a3 = {:.2g} +- {:.1g}\n",
    "    a4 = ({:.2g} +- {:.1g}) s\n",
    "    a5 = ({:.2g} +- {:.1g}) s\n",
    "    '''.format(*itertools.chain(*zip(x, fit_errs))))"
   ]
  },
  {
   "cell_type": "markdown",
   "metadata": {},
   "source": [
    "These values and errors seem reasonable, so next I calculate $\\chi^2$ and the residuals."
   ]
  },
  {
   "cell_type": "code",
   "execution_count": 22,
   "metadata": {},
   "outputs": [
    {
     "name": "stdout",
     "output_type": "stream",
     "text": [
      "Percentage of normalised residuals within 1 SD of mean is: 61.0%\n",
      "chi^2 is: 66.1\n",
      "reduced chi^2 is: 1.1\n"
     ]
    },
    {
     "data": {
      "image/png": "[encoded data removed]",
      "text/plain": [
       "<matplotlib.figure.Figure at 0x7ff9d1a700b8>"
      ]
     },
     "metadata": {},
     "output_type": "display_data"
    }
   ],
   "source": [
    "normed_residuals = (data['counts'] - y(data['time'], *x)) / data['errors']\n",
    "resid_mean = np.mean(normed_residuals)\n",
    "resid_sd = np.std(normed_residuals)\n",
    "\n",
    "resid_frac = len(normed_residuals[abs(normed_residuals - resid_mean) < resid_sd])/ len(normed_residuals)\n",
    "print('Percentage of normalised residuals within 1 SD of mean is: {:.1%}'.format(resid_frac))\n",
    "\n",
    "chi2 = sum(normed_residuals**2)\n",
    "print('chi^2 is: {:.1f}'.format(chi2))\n",
    "\n",
    "nu = len(data['counts'] - 5) # five dependent parameters in fit\n",
    "red_chi2 = chi2 / nu\n",
    "print('reduced chi^2 is: {:.1f}'.format(red_chi2))\n",
    "\n",
    "fig, (ax1, ax2) = plt.subplots(2, 1, sharex=True, figsize=(8,8),\n",
    "                               gridspec_kw={'height_ratios':[2, 1],\n",
    "                                            'hspace':0.1})\n",
    "ax1.xaxis.set_visible(False)\n",
    "ax1.set_ylabel(r'Count rate ($s^{-1}$)')\n",
    "ax1.scatter(data['time'], data['counts'], label='Data')\n",
    "ax1.plot(data['time'], y(data['time'], *x), 'tab:red', label='Fit')\n",
    "ax1.legend()\n",
    "\n",
    "ax2.set_ylabel(r'Normalised residuals ($s^{-1}$)')\n",
    "ax2.set_xlabel(r'Time ($s$)')\n",
    "ax2.axhline(resid_mean, c='tab:cyan')\n",
    "ax2.axhline(resid_mean + resid_sd, linestyle='--', c='tab:cyan')\n",
    "ax2.axhline(resid_mean - resid_sd, linestyle='--', c='tab:cyan')\n",
    "ax2.scatter(data['time'], normed_residuals);"
   ]
  },
  {
   "cell_type": "markdown",
   "metadata": {},
   "source": [
    "The reduced $\\chi^2$ of 1.1 suggests that the data is well-fitted by the given function, as does the fact that the percentage of normalised residuals within one standard deviation of the mean is close to the expected 65%.\n",
    "\n",
    "Next, analyse the residuals using a lag plot and calculating the Durbin-Watson statistic."
   ]
  },
  {
   "cell_type": "code",
   "execution_count": 23,
   "metadata": {
    "scrolled": false
   },
   "outputs": [
    {
     "name": "stdout",
     "output_type": "stream",
     "text": [
      "Durbin-Watson statistic is: 2.14\n",
      "Percentage of lag plot points within 2 SD of mean: 94.8%\n"
     ]
    },
    {
     "data": {
      "image/png": "[encoded data removed]",
      "text/plain": [
       "<matplotlib.figure.Figure at 0x7ff9d1afd470>"
      ]
     },
     "metadata": {},
     "output_type": "display_data"
    }
   ],
   "source": [
    "dw = sum([(normed_residuals[i] - normed_residuals[i - 1])**2\n",
    "          for i in range (1, len(normed_residuals))]) / sum(normed_residuals**2)\n",
    "print('Durbin-Watson statistic is: {:.3g}'.format(dw))\n",
    "\n",
    "lagplot = np.column_stack([normed_residuals[1:], [normed_residuals[i - 1]for i in range(1, len(normed_residuals))]])\n",
    "\n",
    "lp_meanx, lp_meany = np.mean(lagplot[:,0]), np.mean(lagplot[:,1])\n",
    "lp_sdx, lp_sdy = np.std(lagplot[:,0]), np.std(lagplot[:,1])\n",
    "two_sigma_frac = len(lagplot[(abs(lagplot[:,0] - lp_meanx) < 2 * lp_sdx) &\n",
    "                             (abs(lagplot[:,1] - lp_meany) < 2 * lp_sdy)]) / len(lagplot)\n",
    "print('Percentage of lag plot points within 2 SD of mean: {:.1%}'.format(two_sigma_frac))\n",
    "\n",
    "plt.figure(figsize=(6,6))\n",
    "ax = plt.gca()\n",
    "ax.set_aspect('equal')\n",
    "ax.set_ylabel('$i$-th normalised residual')\n",
    "ax.set_xlabel('$(i-1)$-th normalised residual')\n",
    "ax.fill_between([-2, 2], -2, 2, alpha=0.5, color='gray')\n",
    "plt.scatter(lagplot[:,0], lagplot[:,1]);"
   ]
  },
  {
   "cell_type": "markdown",
   "metadata": {},
   "source": [
    "The Durbin-Watson statistic is close to 2, and the percentage of points on the lag plot that lie within a 2-$\\sigma$ range of the mean is very close to the expected value of 95%. This provides further evidence that the data is well-fitted by the given function."
   ]
  }
 ],
 "metadata": {
  "kernelspec": {
   "display_name": "Python 3",
   "language": "python",
   "name": "python3"
  },
  "language_info": {
   "codemirror_mode": {
    "name": "ipython",
    "version": 3
   },
   "file_extension": ".py",
   "mimetype": "text/x-python",
   "name": "python",
   "nbconvert_exporter": "python",
   "pygments_lexer": "ipython3",
   "version": "3.5.2"
  }
 },
 "nbformat": 4,
 "nbformat_minor": 2
}
